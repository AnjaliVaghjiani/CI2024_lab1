{
 "cells": [
  {
   "cell_type": "markdown",
   "metadata": {},
   "source": [
    "# Knapsack Problem (High-Climbing)"
   ]
  },
  {
   "cell_type": "code",
   "execution_count": 7,
   "metadata": {},
   "outputs": [
    {
     "name": "stderr",
     "output_type": "stream",
     "text": [
      "c:\\Users\\anjal\\Desktop\\computational Interlligence\\CI2024_lab1\\CI2024_lab1\\CI2024_lab1\\Lib\\site-packages\\tqdm\\auto.py:21: TqdmWarning: IProgress not found. Please update jupyter and ipywidgets. See https://ipywidgets.readthedocs.io/en/stable/user_install.html\n",
      "  from .autonotebook import tqdm as notebook_tqdm\n"
     ]
    }
   ],
   "source": [
    "from itertools import accumulate #used for generating cumulative sums of the list.\n",
    "from icecream import ic #A debugging library to printvalues neatly\n",
    "import numpy as np # A library for numerical operation\n",
    "from tqdm.auto import tqdm # For displaying progress bars in loops\n",
    "from matplotlib import pyplot as plt # For plotting the results."
   ]
  },
  {
   "cell_type": "code",
   "execution_count": 24,
   "metadata": {},
   "outputs": [],
   "source": [
    "RANDOM_SEED = 42 # A random seed is set for reproducibility, ensuring the random numbers genertaed will be same each time we run the code.\n",
    "np.random.seed(RANDOM_SEED)\n",
    "\n",
    "MAX_STEPS = 5_000"
   ]
  },
  {
   "cell_type": "code",
   "execution_count": 20,
   "metadata": {},
   "outputs": [],
   "source": [
    "instances = [\n",
    "    {\"universe_size\": 100, \"num_sets\": 10, \"density\": 0.2},\n",
    "    {\"universe_size\": 1000, \"num_sets\": 100, \"density\": 0.2},\n",
    "    {\"universe_size\": 10000, \"num_sets\": 1000, \"density\": 0.2},\n",
    "    {\"universe_size\": 100000, \"num_sets\": 10000, \"density\": 0.1},\n",
    "    {\"universe_size\": 100000, \"num_sets\": 10000, \"density\": 0.2},\n",
    "    {\"universe_size\": 100000, \"num_sets\": 10000, \"density\": 0.3},\n",
    "]"
   ]
  },
  {
   "cell_type": "code",
   "execution_count": 10,
   "metadata": {},
   "outputs": [],
   "source": [
    "UNIVERSE_SIZE = 100\n",
    "NUM_SETS = 10\n",
    "DENSITY = 0.2\n",
    "\n",
    "sets = []\n",
    "set_size = int(UNIVERSE_SIZE * DENSITY)\n",
    "set_element = np.random.choice(UNIVERSE_SIZE, set_size, replace=False)\n",
    "set_value = len(set_element)\n",
    "set_weight = np.random.randint(1, 20)\n",
    "sets.append((set_element, set_value, set_weight))\n",
    "\n"
   ]
  },
  {
   "cell_type": "code",
   "execution_count": 11,
   "metadata": {},
   "outputs": [],
   "source": [
    "# knapsack : A binary array of length num_sets\n",
    "# weights : A 2D array where each row representts the weight of esch item in different dimensions.\n",
    "#max_weight:- maximum allowed weight\n",
    "def evaluate(knapsack, weights, values, max_weights):\n",
    "    if all(np.sum(weights[knapsack], axis=0) <= max_weights):\n",
    "        return np.sum(values[knapsack])\n",
    "    else:\n",
    "        return -1"
   ]
  },
  {
   "cell_type": "code",
   "execution_count": 15,
   "metadata": {},
   "outputs": [],
   "source": [
    "def knapsack_solution(instance):\n",
    "    universe_size = instance[\"universe_size\"]\n",
    "    num_sets = instance[\"num_sets\"]\n",
    "    density = instance[\"density\"]\n",
    "\n",
    "    # Generate weights and values for items\n",
    "    weights = np.random.randint(1, 50 + 1, size=(num_sets, universe_size))\n",
    "    max_weights = np.full(universe_size, universe_size * density * 10)  # Adjusted max_weights based on density\n",
    "    values = np.random.randint(1, 100 + 1, size=num_sets)\n",
    "\n",
    "    # Initialize solution and history\n",
    "    solution = np.full(num_sets, False)\n",
    "    history = [evaluate(solution, weights, values, max_weights)]\n",
    "\n",
    "    for n in tqdm(range(MAX_STEPS)):\n",
    "        new_solution = solution.copy()\n",
    "        index = np.random.randint(0, num_sets)\n",
    "        new_solution[index] = not new_solution[index]\n",
    "\n",
    "        new_value = evaluate(new_solution, weights, values, max_weights)\n",
    "        history.append(new_value)\n",
    "        if new_value > evaluate(solution, weights, values, max_weights):\n",
    "            solution = new_solution\n",
    "\n",
    "    return evaluate(solution, weights, values, max_weights), history"
   ]
  },
  {
   "cell_type": "code",
   "execution_count": 23,
   "metadata": {},
   "outputs": [
    {
     "name": "stderr",
     "output_type": "stream",
     "text": [
      "100%|██████████| 5000/5000 [00:00<00:00, 18892.15it/s]\n",
      "100%|██████████| 5000/5000 [00:01<00:00, 3114.54it/s]\n",
      "100%|██████████| 5000/5000 [03:19<00:00, 25.11it/s]\n",
      " 90%|█████████ | 4514/5000 [2:02:30<17:34,  2.17s/it]  "
     ]
    }
   ],
   "source": [
    "# check the code because i think there is an error in it\n",
    "# Run the knapsack solution for each instance\n",
    "results = []\n",
    "for instance in instances:\n",
    "    max_value, history = knapsack_solution(instance)\n",
    "    results.append((instance, max_value))\n",
    "\n",
    "# Display the results\n",
    "for instance, max_value in results:\n",
    "    print(f\"Instance: {instance}, Maximum Value: {max_value}\")\n",
    "\n",
    "# Optional: Visualize the history for the last instance\n",
    "\n",
    "plt.figure(figsize=(14, 8))\n",
    "plt.plot(\n",
    "    range(len(history)),\n",
    "    list(accumulate(history, max)),\n",
    "    color=\"red\",\n",
    ")\n",
    "_ = plt.scatter(range(len(history)), history, marker=\".\")\n",
    "plt.title('Knapsack Problem Evaluation History')\n",
    "plt.xlabel('Steps')\n",
    "plt.ylabel('Value')\n",
    "plt.show()"
   ]
  },
  {
   "cell_type": "code",
   "execution_count": null,
   "metadata": {},
   "outputs": [],
   "source": [
    "def evaluate(knapsack):\n",
    "    total_weights = np.sum(WEIGHTS[knapsack], axis=0)\n",
    "    if all(total_weights <= MAX_WEIGHTS):\n",
    "        return np.sum(VALUES[knapsack])\n",
    "    else:\n",
    "        # Stronger penalty for exceeding capacity\n",
    "        penalty = np.sum((total_weights - MAX_WEIGHTS) ** 2 * (total_weights > MAX_WEIGHTS))\n",
    "        return np.sum(VALUES[knapsack]) - penalty\n"
   ]
  },
  {
   "cell_type": "code",
   "execution_count": null,
   "metadata": {},
   "outputs": [],
   "source": [
    "def tweak(solution, step, max_steps):\n",
    "    new_solution = solution.copy()\n",
    "    # Dynamically adjust tweak intensity based on step progress\n",
    "    tweak_prob = 0.4 if step < 0.5 * max_steps else 0.2\n",
    "    \n",
    "    index = None\n",
    "    while index is None or np.random.random() < tweak_prob:\n",
    "        index = np.random.randint(0, NUM_ITEMS)\n",
    "        new_solution[index] = not new_solution[index]\n",
    "    return new_solution\n"
   ]
  },
  {
   "cell_type": "code",
   "execution_count": null,
   "metadata": {},
   "outputs": [],
   "source": [
    "solution = np.full(NUM_ITEMS, False)\n",
    "history = [evaluate(solution)]\n",
    "\n",
    "patience = 1000  # Early stopping criteria\n",
    "no_improvement_count = 0"
   ]
  },
  {
   "cell_type": "code",
   "execution_count": null,
   "metadata": {},
   "outputs": [],
   "source": [
    "current_value = evaluate(solution)\n",
    "for n in tqdm(range(MAX_STEPS)):\n",
    "    new_solution = tweak(solution, n, MAX_STEPS)\n",
    "    new_value = evaluate(new_solution)\n",
    "    history.append(new_value)\n",
    "    \n",
    "    if new_value > current_value:\n",
    "        solution = new_solution\n",
    "        current_value = new_value  # Update only if improved\n"
   ]
  },
  {
   "cell_type": "code",
   "execution_count": null,
   "metadata": {},
   "outputs": [],
   "source": [
    "patience = 1000  # Stop if no improvement after 1000 steps\n",
    "no_improvement_count = 0\n",
    "current_value = evaluate(solution)\n",
    "\n",
    "for n in tqdm(range(MAX_STEPS)):\n",
    "    new_solution = tweak(solution, n, MAX_STEPS)\n",
    "    new_value = evaluate(new_solution)\n",
    "    history.append(new_value)\n",
    "\n",
    "    if new_value > current_value:\n",
    "        solution = new_solution\n",
    "        current_value = new_value\n",
    "        no_improvement_count = 0  # Reset counter if improved\n",
    "    else:\n",
    "        no_improvement_count += 1\n",
    "    \n",
    "    if no_improvement_count > patience:\n",
    "        print(f\"No improvement after {patience} steps, stopping early.\")\n",
    "        break\n"
   ]
  },
  {
   "cell_type": "code",
   "execution_count": null,
   "metadata": {},
   "outputs": [],
   "source": [
    "ic(current_value)\n",
    "ic(history.index(current_value))\n",
    "\n",
    "plt.figure(figsize=(14, 8))\n",
    "plt.plot(range(len(history)), list(accumulate(history, max)), color=\"red\")\n",
    "_ = plt.scatter(range(len(history)), history, marker=\".\")\n",
    "plt.show()"
   ]
  }
 ],
 "metadata": {
  "kernelspec": {
   "display_name": "CI2024_lab1",
   "language": "python",
   "name": "python3"
  },
  "language_info": {
   "codemirror_mode": {
    "name": "ipython",
    "version": 3
   },
   "file_extension": ".py",
   "mimetype": "text/x-python",
   "name": "python",
   "nbconvert_exporter": "python",
   "pygments_lexer": "ipython3",
   "version": "3.13.0"
  }
 },
 "nbformat": 4,
 "nbformat_minor": 2
}
